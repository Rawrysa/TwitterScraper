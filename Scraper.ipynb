{
 "cells": [
  {
   "cell_type": "markdown",
   "id": "7262199c",
   "metadata": {},
   "source": [
    "1. Install the required packages"
   ]
  },
  {
   "cell_type": "code",
   "execution_count": null,
   "id": "461a0e12",
   "metadata": {},
   "outputs": [],
   "source": [
    "%pip install tweepy\n",
    "%pip install sqlalchemy\n",
    "%pip install pandas\n",
    "%pip install python-dotenv"
   ]
  },
  {
   "cell_type": "markdown",
   "id": "eb1f35b9",
   "metadata": {},
   "source": [
    "2. Import the installed libraries"
   ]
  },
  {
   "cell_type": "code",
   "execution_count": null,
   "id": "d9f1b05d",
   "metadata": {},
   "outputs": [],
   "source": [
    "import tweepy\n",
    "import pandas as pd\n",
    "import sqlalchemy as sa\n",
    "from dotenv import load_dotenv\n",
    "import os"
   ]
  },
  {
   "cell_type": "markdown",
   "id": "7d274c2a",
   "metadata": {},
   "source": [
    "2. Setup up the Twitter API connection"
   ]
  },
  {
   "cell_type": "code",
   "execution_count": null,
   "id": "c2496da2",
   "metadata": {},
   "outputs": [],
   "source": [
    "load_dotenv()\n",
    "api_key = os.getenv(\"TWITTER_API_KEY\")\n",
    "client = tweepy.Client(api_key)"
   ]
  }
 ],
 "metadata": {
  "kernelspec": {
   "display_name": "myenv",
   "language": "python",
   "name": "python3"
  },
  "language_info": {
   "codemirror_mode": {
    "name": "ipython",
    "version": 3
   },
   "file_extension": ".py",
   "mimetype": "text/x-python",
   "name": "python",
   "nbconvert_exporter": "python",
   "pygments_lexer": "ipython3",
   "version": "3.11.9"
  }
 },
 "nbformat": 4,
 "nbformat_minor": 5
}
