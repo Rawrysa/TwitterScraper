{
 "cells": [
  {
   "cell_type": "markdown",
   "id": "7262199c",
   "metadata": {},
   "source": [
    "1. Install the required packages"
   ]
  },
  {
   "cell_type": "code",
   "execution_count": null,
   "id": "461a0e12",
   "metadata": {},
   "outputs": [],
   "source": [
    "%pip install tweepy\n",
    "%pip install pyodbc\n",
    "%pip install sqlalchemy\n",
    "%pip install pandas\n",
    "%pip install python-dotenv"
   ]
  },
  {
   "cell_type": "markdown",
   "id": "eb1f35b9",
   "metadata": {},
   "source": [
    "2. Import the installed libraries"
   ]
  },
  {
   "cell_type": "code",
   "execution_count": 97,
   "id": "d9f1b05d",
   "metadata": {},
   "outputs": [],
   "source": [
    "import tweepy\n",
    "import pandas as pd\n",
    "import sqlalchemy as sa\n",
    "from sqlalchemy import MetaData, Table, Column, BigInteger, Integer, String\n",
    "from dotenv import load_dotenv\n",
    "import os"
   ]
  },
  {
   "cell_type": "markdown",
   "id": "678cce67",
   "metadata": {},
   "source": [
    "3. Load Environment Variables"
   ]
  },
  {
   "cell_type": "code",
   "execution_count": 77,
   "id": "f6935e4f",
   "metadata": {},
   "outputs": [],
   "source": [
    "load_dotenv()\n",
    "api_key = os.getenv(\"TWITTER_API_KEY\")\n",
    "server_name = os.getenv(\"SERVER_NAME\")\n",
    "database_name = os.getenv(\"DATABASE_NAME\")"
   ]
  },
  {
   "cell_type": "markdown",
   "id": "31b3e420",
   "metadata": {},
   "source": [
    "4. Setup a Connection to our Database"
   ]
  },
  {
   "cell_type": "code",
   "execution_count": 80,
   "id": "178bd0ea",
   "metadata": {},
   "outputs": [],
   "source": [
    "server = server_name\n",
    "database = database_name\n",
    "driver = 'ODBC Driver 17 for SQL Server'\n",
    "\n",
    "connection_string = f\"mssql+pyodbc://@{server}/{database}?driver={driver.replace(' ', '+')}\"\n",
    "\n",
    "engine = sa.create_engine(connection_string)"
   ]
  },
  {
   "cell_type": "markdown",
   "id": "2149c26b",
   "metadata": {},
   "source": [
    "5. Create Table for Users"
   ]
  },
  {
   "cell_type": "code",
   "execution_count": 98,
   "id": "c7b244d4",
   "metadata": {},
   "outputs": [],
   "source": [
    "meta = MetaData()\n",
    "\n",
    "users = Table(\n",
    "    'users', meta,\n",
    "    Column('user_id', BigInteger, primary_key=True),\n",
    "    Column('name', String(50)),\n",
    "    Column('username', String(50), nullable=False),\n",
    "    Column('followers_count', Integer),\n",
    "    Column('following_count', Integer),\n",
    "    Column('tweet_count', Integer)\n",
    ")\n",
    "\n",
    "meta.create_all(engine)"
   ]
  },
  {
   "cell_type": "markdown",
   "id": "7d274c2a",
   "metadata": {},
   "source": [
    "6. Setup Twitter API Client"
   ]
  },
  {
   "cell_type": "code",
   "execution_count": null,
   "id": "c2496da2",
   "metadata": {},
   "outputs": [],
   "source": [
    "client = tweepy.Client(api_key)"
   ]
  },
  {
   "cell_type": "markdown",
   "id": "65bb3581",
   "metadata": {},
   "source": [
    "7. Retrieve User Info"
   ]
  },
  {
   "cell_type": "code",
   "execution_count": 99,
   "id": "d691d99c",
   "metadata": {},
   "outputs": [
    {
     "name": "stdout",
     "output_type": "stream",
     "text": [
      "User found! \n",
      "\n"
     ]
    }
   ],
   "source": [
    "while True:\n",
    "    test_input = input(\"Enter a Twitter handle: \").strip()\n",
    "    user = client.get_user(username=test_input, user_fields=[\"public_metrics\"])\n",
    "\n",
    "    if user.data is None:\n",
    "        print(\"User not found. Please try again. \\n\")\n",
    "        continue\n",
    "    else:\n",
    "        print(\"User found! \\n\")\n",
    "        user = user.data\n",
    "        break"
   ]
  },
  {
   "cell_type": "markdown",
   "id": "d8e56497",
   "metadata": {},
   "source": [
    "8. Store User Info"
   ]
  },
  {
   "cell_type": "code",
   "execution_count": 103,
   "id": "ce07d507",
   "metadata": {},
   "outputs": [
    {
     "name": "stdout",
     "output_type": "stream",
     "text": [
      "User already exists in the database. \n",
      "\n"
     ]
    }
   ],
   "source": [
    "def user_exists(user_id):\n",
    "    with engine.connect() as conn:\n",
    "        query = sa.select(users).where(users.c.user_id == int(user.id))\n",
    "        result = conn.execute(query).fetchone()\n",
    "        return result is not None\n",
    "    \n",
    "if user_exists(user.id):\n",
    "    print(\"User already exists in the database. \\n\")\n",
    "else:\n",
    "    new_user = {\n",
    "        'user_id': int(user.id),\n",
    "        'name': user.name,\n",
    "        'username': user.username,\n",
    "        'followers_count': int(user.public_metrics['followers_count']),\n",
    "        'following_count': int(user.public_metrics['following_count']),\n",
    "        'tweet_count': int(user.public_metrics['tweet_count'])\n",
    "    }\n",
    "\n",
    "    with engine.begin() as conn:\n",
    "        conn.execute(users.insert().values(new_user))\n",
    "        print(\"User data inserted into the database. \\n\")"
   ]
  }
 ],
 "metadata": {
  "kernelspec": {
   "display_name": "myenv",
   "language": "python",
   "name": "python3"
  },
  "language_info": {
   "codemirror_mode": {
    "name": "ipython",
    "version": 3
   },
   "file_extension": ".py",
   "mimetype": "text/x-python",
   "name": "python",
   "nbconvert_exporter": "python",
   "pygments_lexer": "ipython3",
   "version": "3.11.9"
  }
 },
 "nbformat": 4,
 "nbformat_minor": 5
}
